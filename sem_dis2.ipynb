{
 "metadata": {
  "language_info": {
   "codemirror_mode": {
    "name": "ipython",
    "version": 3
   },
   "file_extension": ".py",
   "mimetype": "text/x-python",
   "name": "python",
   "nbconvert_exporter": "python",
   "pygments_lexer": "ipython3",
   "version": "3.7.3"
  },
  "orig_nbformat": 2,
  "kernelspec": {
   "name": "python3",
   "display_name": "Python 3.7.3 64-bit",
   "metadata": {
    "interpreter": {
     "hash": "5edc29c2ed010d6458d71a83433b383a96a8cbd3efe8531bc90c4b8a5b8bcec9"
    }
   }
  }
 },
 "nbformat": 4,
 "nbformat_minor": 2,
 "cells": [
  {
   "cell_type": "code",
   "execution_count": 1,
   "metadata": {},
   "outputs": [],
   "source": [
    "import glob\n",
    "from re import sub\n",
    "import numpy as np\n",
    "from gensim.utils import simple_preprocess\n",
    "import gensim.downloader as api\n",
    "from gensim.corpora import Dictionary\n",
    "from gensim.models import TfidfModel\n",
    "from gensim.similarities import SparseTermSimilarityMatrix\n",
    "from gensim.similarities import SoftCosineSimilarity\n",
    "from gensim.similarities import WordEmbeddingSimilarityIndex\n",
    "from nltk.corpus import stopwords\n",
    "import nltk"
   ]
  },
  {
   "cell_type": "code",
   "execution_count": 2,
   "metadata": {},
   "outputs": [
    {
     "output_type": "stream",
     "name": "stdout",
     "text": [
      "[==================================================] 100.0% 66.0/66.0MB downloaded\n"
     ]
    }
   ],
   "source": [
    "# Download stopwords\n",
    "nltk.download('stopwords')\n",
    "\n",
    "# Load the model: this is a big file, can take a while to download and open\n",
    "glove = api.load(\"glove-wiki-gigaword-50\")    \n",
    "similarity_index = WordEmbeddingSimilarityIndex(glove)"
   ]
  },
  {
   "cell_type": "code",
   "execution_count": 3,
   "metadata": {},
   "outputs": [],
   "source": [
    "# Read docs\n",
    "docs_dir = \"ransomware\"\n",
    "documents = []\n",
    "stop_words = set(stopwords.words('english')) \n",
    "\n",
    "for i in glob.glob(\"%s/*.txt\" % docs_dir):\n",
    "    with open(i, 'r', encoding='utf-8') as f:\n",
    "        documents.append(f.read())\n",
    "\n",
    "def preprocess(doc):\n",
    "    return [token for token in simple_preprocess(doc, min_len=0, max_len=float(\"inf\")) if token not in stop_words]\n",
    "\n",
    "corpus = [preprocess(document) for document in documents]\n",
    "\n",
    "# Build the term dictionary, TF-idf model\n",
    "dictionary = Dictionary(corpus)\n",
    "tfidf = TfidfModel(dictionary=dictionary)"
   ]
  },
  {
   "cell_type": "code",
   "execution_count": 60,
   "metadata": {},
   "outputs": [
    {
     "output_type": "execute_result",
     "data": {
      "text/plain": [
       "100"
      ]
     },
     "metadata": {},
     "execution_count": 60
    }
   ],
   "source": [
    "c = 0\n",
    "for i in corpus:\n",
    "    if d in i:\n",
    "        c += 1\n",
    "c\n",
    "\n",
    "# HERE LIES THE PROBLEM TFIDF gives it as a zero vector because it appears in every document!!!!!!!!!"
   ]
  },
  {
   "cell_type": "code",
   "execution_count": 4,
   "metadata": {},
   "outputs": [
    {
     "output_type": "stream",
     "name": "stderr",
     "text": [
      "100%|██████████| 4965/4965 [00:51<00:00, 96.45it/s] \n"
     ]
    }
   ],
   "source": [
    "# Create the term similarity matrix. SLOW!\n",
    "similarity_matrix = SparseTermSimilarityMatrix(similarity_index, dictionary, tfidf=tfidf)"
   ]
  },
  {
   "cell_type": "code",
   "execution_count": 57,
   "metadata": {},
   "outputs": [],
   "source": [
    "tf_bow_corpus = tfidf[[dictionary.doc2bow(document) for document in corpus]]\n",
    "index = SoftCosineSimilarity(tf_bow_corpus, similarity_matrix)"
   ]
  },
  {
   "cell_type": "code",
   "execution_count": 59,
   "metadata": {},
   "outputs": [
    {
     "output_type": "execute_result",
     "data": {
      "text/plain": [
       "array(0., dtype=float32)"
      ]
     },
     "metadata": {},
     "execution_count": 59
    }
   ],
   "source": [
    "query = preprocess('ransomware')\n",
    "v_query = dictionary.doc2bow(query)\n",
    "v_query_tf = tfidf[dictionary.doc2bow(query)]\n",
    "\n",
    "index[v_query_tf]"
   ]
  },
  {
   "cell_type": "code",
   "execution_count": null,
   "metadata": {},
   "outputs": [],
   "source": [
    "#[dictionary.doc2bow(document) for document in corpus]\n",
    "a = []\n",
    "for document in corpus:\n",
    "    b = similarity_matrix.inner_product(dictionary.doc2bow(query), dictionary.doc2bow(document))\n",
    "    a.append(b)\n",
    "\n",
    "np.array(a).mean()"
   ]
  },
  {
   "cell_type": "code",
   "execution_count": null,
   "metadata": {},
   "outputs": [],
   "source": []
  }
 ]
}